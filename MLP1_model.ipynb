{
  "nbformat": 4,
  "nbformat_minor": 0,
  "metadata": {
    "colab": {
      "provenance": []
    },
    "kernelspec": {
      "name": "python3",
      "display_name": "Python 3"
    },
    "language_info": {
      "name": "python"
    }
  },
  "cells": [
    {
      "cell_type": "code",
      "execution_count": 1,
      "metadata": {
        "id": "xI4HhuPUZBhF"
      },
      "outputs": [],
      "source": [
        "import pandas as pd\n",
        "from sklearn.model_selection import train_test_split\n",
        "from sklearn.preprocessing import StandardScaler\n",
        "from tensorflow.keras.models import Sequential\n",
        "from tensorflow.keras.layers import Dense"
      ]
    },
    {
      "cell_type": "code",
      "source": [
        "df = pd.read_excel('ASIANPAINT_Dataset.xlsx')"
      ],
      "metadata": {
        "id": "BcVkK8HxZloj"
      },
      "execution_count": 4,
      "outputs": []
    },
    {
      "cell_type": "code",
      "source": [
        "X = df.iloc[:, :-1].values\n",
        "y = df.iloc[:, -1].values"
      ],
      "metadata": {
        "id": "0o7nosBkZvt5"
      },
      "execution_count": 5,
      "outputs": []
    },
    {
      "cell_type": "code",
      "source": [
        "numeric_columns = df.select_dtypes(include=[float, int]).columns\n",
        "X = df[numeric_columns].values"
      ],
      "metadata": {
        "id": "h6-0-8HlZ1NO"
      },
      "execution_count": 6,
      "outputs": []
    },
    {
      "cell_type": "code",
      "source": [
        "X_train, X_test, y_train, y_test = train_test_split(X, y, test_size=0.2, random_state=42)"
      ],
      "metadata": {
        "id": "j2sizEm_Z5NF"
      },
      "execution_count": 7,
      "outputs": []
    },
    {
      "cell_type": "code",
      "source": [
        "scaler = StandardScaler()\n",
        "X_train = scaler.fit_transform(X_train)\n",
        "X_test = scaler.transform(X_test)"
      ],
      "metadata": {
        "id": "jdHmwXkQZ_Tg"
      },
      "execution_count": 9,
      "outputs": []
    },
    {
      "cell_type": "code",
      "source": [
        "model = Sequential()\n",
        "model.add(Dense(units=64, activation='relu', input_dim=X_train.shape[1]))"
      ],
      "metadata": {
        "id": "sne2JPO6aBod"
      },
      "execution_count": 11,
      "outputs": []
    },
    {
      "cell_type": "code",
      "source": [
        "model.add(Dense(units=32, activation='relu'))\n",
        "model.add(Dense(units=16, activation='relu'))\n",
        "model.add(Dense(units=1, activation='linear'))"
      ],
      "metadata": {
        "id": "pM945HF3aFoA"
      },
      "execution_count": 12,
      "outputs": []
    },
    {
      "cell_type": "code",
      "source": [
        "model.compile(optimizer='adam', loss='mean_squared_error', metrics=['mae'])"
      ],
      "metadata": {
        "id": "UHhl8PwLaTNr"
      },
      "execution_count": 13,
      "outputs": []
    },
    {
      "cell_type": "code",
      "source": [
        "model.fit(X_train, y_train, epochs=50, batch_size=32, validation_data=(X_test, y_test))"
      ],
      "metadata": {
        "colab": {
          "base_uri": "https://localhost:8080/"
        },
        "id": "cuQZOhdQaaJQ",
        "outputId": "44daa7b0-e31f-40a0-99a8-d1a311ce7ea6"
      },
      "execution_count": 14,
      "outputs": [
        {
          "output_type": "stream",
          "name": "stdout",
          "text": [
            "Epoch 1/50\n",
            "890/890 [==============================] - 4s 3ms/step - loss: 11207.2275 - mae: 52.2228 - val_loss: 247.9271 - val_mae: 12.4003\n",
            "Epoch 2/50\n",
            "890/890 [==============================] - 2s 2ms/step - loss: 76.4624 - mae: 6.3694 - val_loss: 16.8103 - val_mae: 3.1305\n",
            "Epoch 3/50\n",
            "890/890 [==============================] - 2s 2ms/step - loss: 8.2834 - mae: 2.1563 - val_loss: 4.1205 - val_mae: 1.5458\n",
            "Epoch 4/50\n",
            "890/890 [==============================] - 2s 2ms/step - loss: 3.1337 - mae: 1.3427 - val_loss: 2.1698 - val_mae: 1.1199\n",
            "Epoch 5/50\n",
            "890/890 [==============================] - 2s 2ms/step - loss: 1.8348 - mae: 1.0275 - val_loss: 1.6445 - val_mae: 0.9723\n",
            "Epoch 6/50\n",
            "890/890 [==============================] - 2s 2ms/step - loss: 1.2552 - mae: 0.8524 - val_loss: 0.9851 - val_mae: 0.7480\n",
            "Epoch 7/50\n",
            "890/890 [==============================] - 3s 3ms/step - loss: 0.9432 - mae: 0.7432 - val_loss: 0.7090 - val_mae: 0.6342\n",
            "Epoch 8/50\n",
            "890/890 [==============================] - 2s 2ms/step - loss: 0.8313 - mae: 0.7003 - val_loss: 0.8169 - val_mae: 0.7090\n",
            "Epoch 9/50\n",
            "890/890 [==============================] - 2s 2ms/step - loss: 0.6887 - mae: 0.6413 - val_loss: 0.5944 - val_mae: 0.6056\n",
            "Epoch 10/50\n",
            "890/890 [==============================] - 2s 2ms/step - loss: 0.6599 - mae: 0.6232 - val_loss: 0.3812 - val_mae: 0.4751\n",
            "Epoch 11/50\n",
            "890/890 [==============================] - 2s 2ms/step - loss: 0.5593 - mae: 0.5753 - val_loss: 0.5993 - val_mae: 0.6174\n",
            "Epoch 12/50\n",
            "890/890 [==============================] - 2s 2ms/step - loss: 0.4274 - mae: 0.5045 - val_loss: 0.4495 - val_mae: 0.5417\n",
            "Epoch 13/50\n",
            "890/890 [==============================] - 2s 3ms/step - loss: 0.4844 - mae: 0.5189 - val_loss: 0.2843 - val_mae: 0.4115\n",
            "Epoch 14/50\n",
            "890/890 [==============================] - 3s 3ms/step - loss: 0.3629 - mae: 0.4627 - val_loss: 0.2699 - val_mae: 0.4024\n",
            "Epoch 15/50\n",
            "890/890 [==============================] - 2s 2ms/step - loss: 0.4151 - mae: 0.4799 - val_loss: 0.4260 - val_mae: 0.5318\n",
            "Epoch 16/50\n",
            "890/890 [==============================] - 2s 2ms/step - loss: 0.3015 - mae: 0.4173 - val_loss: 0.2114 - val_mae: 0.3662\n",
            "Epoch 17/50\n",
            "890/890 [==============================] - 2s 2ms/step - loss: 0.3018 - mae: 0.4172 - val_loss: 0.2073 - val_mae: 0.3633\n",
            "Epoch 18/50\n",
            "890/890 [==============================] - 2s 2ms/step - loss: 0.3850 - mae: 0.4526 - val_loss: 0.4747 - val_mae: 0.5325\n",
            "Epoch 19/50\n",
            "890/890 [==============================] - 2s 2ms/step - loss: 0.2390 - mae: 0.3632 - val_loss: 0.2265 - val_mae: 0.3867\n",
            "Epoch 20/50\n",
            "890/890 [==============================] - 3s 3ms/step - loss: 0.2675 - mae: 0.3825 - val_loss: 1.7026 - val_mae: 1.1853\n",
            "Epoch 21/50\n",
            "890/890 [==============================] - 2s 3ms/step - loss: 0.2841 - mae: 0.3941 - val_loss: 0.2258 - val_mae: 0.3535\n",
            "Epoch 22/50\n",
            "890/890 [==============================] - 2s 2ms/step - loss: 0.3304 - mae: 0.4028 - val_loss: 0.9619 - val_mae: 0.8133\n",
            "Epoch 23/50\n",
            "890/890 [==============================] - 2s 2ms/step - loss: 0.1918 - mae: 0.3173 - val_loss: 0.1687 - val_mae: 0.3340\n",
            "Epoch 24/50\n",
            "890/890 [==============================] - 2s 2ms/step - loss: 0.2247 - mae: 0.3512 - val_loss: 0.1051 - val_mae: 0.2655\n",
            "Epoch 25/50\n",
            "890/890 [==============================] - 2s 2ms/step - loss: 0.2515 - mae: 0.3545 - val_loss: 0.1295 - val_mae: 0.2778\n",
            "Epoch 26/50\n",
            "890/890 [==============================] - 2s 3ms/step - loss: 0.1762 - mae: 0.3162 - val_loss: 0.1848 - val_mae: 0.3538\n",
            "Epoch 27/50\n",
            "890/890 [==============================] - 3s 3ms/step - loss: 0.2009 - mae: 0.3249 - val_loss: 0.1092 - val_mae: 0.2509\n",
            "Epoch 28/50\n",
            "890/890 [==============================] - 2s 2ms/step - loss: 0.2778 - mae: 0.3780 - val_loss: 0.1337 - val_mae: 0.2998\n",
            "Epoch 29/50\n",
            "890/890 [==============================] - 2s 2ms/step - loss: 0.1288 - mae: 0.2725 - val_loss: 0.0565 - val_mae: 0.1794\n",
            "Epoch 30/50\n",
            "890/890 [==============================] - 2s 2ms/step - loss: 0.2427 - mae: 0.3359 - val_loss: 0.1379 - val_mae: 0.2704\n",
            "Epoch 31/50\n",
            "890/890 [==============================] - 2s 2ms/step - loss: 0.2084 - mae: 0.3248 - val_loss: 0.4380 - val_mae: 0.5348\n",
            "Epoch 32/50\n",
            "890/890 [==============================] - 2s 2ms/step - loss: 0.1730 - mae: 0.3031 - val_loss: 0.1033 - val_mae: 0.2432\n",
            "Epoch 33/50\n",
            "890/890 [==============================] - 3s 3ms/step - loss: 0.2084 - mae: 0.3256 - val_loss: 0.0830 - val_mae: 0.2406\n",
            "Epoch 34/50\n",
            "890/890 [==============================] - 2s 2ms/step - loss: 0.1436 - mae: 0.2722 - val_loss: 0.4661 - val_mae: 0.5794\n",
            "Epoch 35/50\n",
            "890/890 [==============================] - 2s 2ms/step - loss: 0.2489 - mae: 0.3343 - val_loss: 0.2068 - val_mae: 0.3655\n",
            "Epoch 36/50\n",
            "890/890 [==============================] - 2s 2ms/step - loss: 0.1554 - mae: 0.2903 - val_loss: 0.3479 - val_mae: 0.4705\n",
            "Epoch 37/50\n",
            "890/890 [==============================] - 2s 2ms/step - loss: 0.1811 - mae: 0.3064 - val_loss: 0.1319 - val_mae: 0.2960\n",
            "Epoch 38/50\n",
            "890/890 [==============================] - 2s 2ms/step - loss: 0.1626 - mae: 0.2939 - val_loss: 0.0865 - val_mae: 0.2037\n",
            "Epoch 39/50\n",
            "890/890 [==============================] - 2s 3ms/step - loss: 0.1498 - mae: 0.2844 - val_loss: 0.3817 - val_mae: 0.4722\n",
            "Epoch 40/50\n",
            "890/890 [==============================] - 2s 3ms/step - loss: 0.1587 - mae: 0.2633 - val_loss: 0.1098 - val_mae: 0.2723\n",
            "Epoch 41/50\n",
            "890/890 [==============================] - 2s 2ms/step - loss: 0.1711 - mae: 0.2864 - val_loss: 0.0323 - val_mae: 0.1399\n",
            "Epoch 42/50\n",
            "890/890 [==============================] - 2s 2ms/step - loss: 0.2166 - mae: 0.2972 - val_loss: 0.0538 - val_mae: 0.1709\n",
            "Epoch 43/50\n",
            "890/890 [==============================] - 2s 2ms/step - loss: 0.1032 - mae: 0.2354 - val_loss: 0.0550 - val_mae: 0.1957\n",
            "Epoch 44/50\n",
            "890/890 [==============================] - 2s 2ms/step - loss: 0.1258 - mae: 0.2602 - val_loss: 0.1284 - val_mae: 0.2860\n",
            "Epoch 45/50\n",
            "890/890 [==============================] - 2s 2ms/step - loss: 0.1830 - mae: 0.2965 - val_loss: 0.0613 - val_mae: 0.2032\n",
            "Epoch 46/50\n",
            "890/890 [==============================] - 3s 3ms/step - loss: 0.3143 - mae: 0.2709 - val_loss: 0.0253 - val_mae: 0.1134\n",
            "Epoch 47/50\n",
            "890/890 [==============================] - 2s 2ms/step - loss: 0.1320 - mae: 0.2511 - val_loss: 0.0427 - val_mae: 0.1531\n",
            "Epoch 48/50\n",
            "890/890 [==============================] - 2s 2ms/step - loss: 0.1203 - mae: 0.2426 - val_loss: 0.1309 - val_mae: 0.2978\n",
            "Epoch 49/50\n",
            "890/890 [==============================] - 2s 2ms/step - loss: 0.1637 - mae: 0.2864 - val_loss: 1.7480 - val_mae: 0.9784\n",
            "Epoch 50/50\n",
            "890/890 [==============================] - 2s 2ms/step - loss: 0.1449 - mae: 0.2620 - val_loss: 0.0769 - val_mae: 0.2244\n"
          ]
        },
        {
          "output_type": "execute_result",
          "data": {
            "text/plain": [
              "<keras.src.callbacks.History at 0x78ed989839d0>"
            ]
          },
          "metadata": {},
          "execution_count": 14
        }
      ]
    }
  ]
}